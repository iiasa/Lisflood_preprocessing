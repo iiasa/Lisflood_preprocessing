{
 "cells": [
  {
   "cell_type": "code",
   "execution_count": 1,
   "id": "60ee1b36-e0ec-4cb1-a112-1a250608bf3f",
   "metadata": {},
   "outputs": [
    {
     "name": "stderr",
     "output_type": "stream",
     "text": [
      "2024-08-13 13:11:41,774 | INFO | Map of upstream area corretly read: ..\\data\\ups_danube_3sec.tif\n",
      "2024-08-13 13:11:41,774 | INFO | Fine resolution is 3 arcseconds\n",
      "2024-08-13 13:11:41,782 | INFO | Table of stations correctly read: stations.csv\n"
     ]
    },
    {
     "data": {
      "application/vnd.jupyter.widget-view+json": {
       "model_id": "f2a2e06c4d4b42c1a10a1cd09c4872d1",
       "version_major": 2,
       "version_minor": 0
      },
      "text/plain": [
       "stations:   0%|          | 0/45 [00:00<?, ?it/s]"
      ]
     },
     "metadata": {},
     "output_type": "display_data"
    },
    {
     "name": "stderr",
     "output_type": "stream",
     "text": [
      "2024-08-13 13:11:43,619 | INFO | Results have been exported to: stations_3sec.csv\n"
     ]
    }
   ],
   "source": [
    "\"\"\"\n",
    "# ***\n",
    "# Name:        Find MERIT coordinates\n",
    "# Purpose:     uses upstream area of MERIT (UPA) and GRDC station data\n",
    "#              to check and correct station location\n",
    "# \n",
    "# Author:      Peter Burek, Jesús Casado Rodríguez\n",
    "# \n",
    "# Created:     15/05/2022\n",
    "# Copyright:   (c) PB 2022\n",
    "#\n",
    "# Updated:     13/08/2024\n",
    "# \n",
    "# input:  grdc_2022_10577.txt   10577 station datasets >= 10km2 upstream area or no area provided\n",
    "# output: grdc_MERIT_1.txt: station with new location fitted to merit UPA\n",
    "# \n",
    "# No: Number from 1 ...\n",
    "# GRDC_No: GRDC number\n",
    "# lat: original latitude from GRDC metafile\n",
    "# lon: original longituted from GRDC metafile\n",
    "# newlat: corrected latitude based on MERIT UPA dataset\n",
    "# newlon: corrected longitute based on MERIT UPA dataset\n",
    "# area; provided basin area from GRDC metafile\n",
    "# newarea: basin area based on MERIT UPA dataset\n",
    "# UPS_Indicator:  min error in % from MERIT UPA to provided basin area\n",
    "# dist_Indicator: distance to original pour point in [unit:100m]\n",
    "# Indicator:  ranking criteria: UPS_Indicator + 2 x dist_indicator\n",
    "# \n",
    "# ***\n",
    "\"\"\"\n",
    "\n",
    "import numpy as np\n",
    "import pandas as pd\n",
    "import rioxarray\n",
    "from tqdm.auto import tqdm\n",
    "from pathlib import Path\n",
    "\n",
    "import warnings\n",
    "warnings.filterwarnings('ignore')\n",
    "\n",
    "import logging\n",
    "logging.basicConfig(level=logging.INFO, format='%(asctime)s | %(levelname)s | %(message)s')\n",
    "logger = logging.getLogger(__name__)\n",
    "\n",
    "from utils import find_pixel\n",
    "\n",
    "\n",
    "# CONFIGURATION\n",
    "\n",
    "# input\n",
    "STATION_FILE = Path('stations.csv') # table of original coordinates (lat and lon) and catchment area in km2\n",
    "UPSTREAM_FINE_FILE = Path('../data/ups_danube_3sec.tif') # MERIT Yamazaki et al 2019 - upstream area in km2\n",
    "\n",
    "# READ INPUT DATA\n",
    "\n",
    "# read upstream map with fine resolution\n",
    "upstream_fine = rioxarray.open_rasterio(UPSTREAM_FINE_FILE).squeeze(dim='band')\n",
    "logger.info(f'Map of upstream area corretly read: {UPSTREAM_FINE_FILE}')\n",
    "\n",
    "# resolution of the input map\n",
    "cellsize = np.mean(np.diff(upstream_fine.x)) # degrees\n",
    "cellsize_arcsec = int(np.round(cellsize * 3600, 0)) # arcsec\n",
    "suffix_fine = f'{cellsize_arcsec}sec'\n",
    "logger.info(f'Fine resolution is {cellsize_arcsec} arcseconds')\n",
    "\n",
    "# read stations text file\n",
    "stations = pd.read_csv(STATION_FILE, index_col='ID')\n",
    "new_cols = [f'{col}_{suffix_fine}' for col in stations.columns]\n",
    "stations[new_cols] = np.nan\n",
    "logger.info(f'Table of stations correctly read: {STATION_FILE}')\n",
    "\n",
    "\n",
    "# PROCESSING\n",
    "\n",
    "for ID, attrs in tqdm(stations.iterrows(), total=stations.shape[0], desc='stations'):  \n",
    "\n",
    "    # reference coordinates and upstream area\n",
    "    lat_ref, lon_ref, area_ref = attrs[['lat', 'lon', 'area']]\n",
    "\n",
    "    # search range in cells: 55 = around 5km\n",
    "    rangexy = 55\n",
    "    logger.debug(f'Set range to {rangexy}')\n",
    "    lat, lon, error = find_pixel(upstream_fine, lat_ref, lon_ref, area_ref, rangexy=rangexy, penalty=500, factor=2)\n",
    "    \n",
    "    # if still big error, increase range\n",
    "    if error > 50:\n",
    "        rangexy = 101\n",
    "        logger.debug(f'Increase range to {rangexy}')\n",
    "        lat, lon, error = find_pixel(upstream_fine, lat_ref, lon_ref, area_ref, rangexy=rangexy, penalty=500, factor=0.5)\n",
    "\n",
    "    # if still big error increase range\n",
    "        if error > 80:\n",
    "            rangexy = 151\n",
    "            logger.debug(f'Increase range to {rangexy}')\n",
    "            lat, lon, error = find_pixel(upstream_fine, lat_ref, lon_ref, area_ref, rangexy=rangexy, penalty=1000, factor=0.25)\n",
    "\n",
    "    # find new coordinates and its associated upstream area\n",
    "    stations.loc[ID, new_cols] = [round(lat, 6), round(lon, 6), int(upstream_fine.sel(y=lat, x=lon).item())]\n",
    "\n",
    "# export results\n",
    "stations.sort_index(axis=1, inplace=True)\n",
    "output_csv = f'{STATION_FILE.stem}_{suffix_fine}.csv'\n",
    "stations.to_csv(output_csv)\n",
    "logger.info(f'Results have been exported to: {output_csv}')"
   ]
  }
 ],
 "metadata": {
  "kernelspec": {
   "display_name": "Python 3 (ipykernel)",
   "language": "python",
   "name": "python3"
  },
  "language_info": {
   "codemirror_mode": {
    "name": "ipython",
    "version": 3
   },
   "file_extension": ".py",
   "mimetype": "text/x-python",
   "name": "python",
   "nbconvert_exporter": "python",
   "pygments_lexer": "ipython3",
   "version": "3.9.13"
  }
 },
 "nbformat": 4,
 "nbformat_minor": 5
}
